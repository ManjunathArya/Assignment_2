{
  "nbformat": 4,
  "nbformat_minor": 0,
  "metadata": {
    "colab": {
      "provenance": []
    },
    "kernelspec": {
      "name": "python3",
      "display_name": "Python 3"
    },
    "language_info": {
      "name": "python"
    }
  },
  "cells": [
    {
      "cell_type": "markdown",
      "source": [
        "Name : Manjunath B H\n",
        "\n",
        "Date : 14-09-2024"
      ],
      "metadata": {
        "id": "BQ_JWKjZKYZ8"
      }
    },
    {
      "cell_type": "markdown",
      "source": [
        "1. Lists\n",
        "\n",
        "i. Creating and Accessing of elements from a list"
      ],
      "metadata": {
        "id": "5uBKkxYsKn-5"
      }
    },
    {
      "cell_type": "code",
      "source": [
        "fruits=[\"Apple\",\"Mango\",\"Banana\",\"Cherry\",\"Litchi\"] #list of fruits\n",
        "print(fruits[0],fruits[4]) #Accessing first and last element from the list"
      ],
      "metadata": {
        "colab": {
          "base_uri": "https://localhost:8080/"
        },
        "id": "VBNbn_urKa_u",
        "outputId": "97920283-e436-4830-f273-611321de4778"
      },
      "execution_count": 13,
      "outputs": [
        {
          "output_type": "stream",
          "name": "stdout",
          "text": [
            "Apple Litchi\n"
          ]
        }
      ]
    },
    {
      "cell_type": "markdown",
      "source": [
        "ii. Modifying a list\n",
        "\n"
      ],
      "metadata": {
        "id": "EVFYptLNKvVk"
      }
    },
    {
      "cell_type": "code",
      "source": [
        "fruits = [\"Apple\", \"Mango\", \"Banana\", \"Cherry\", \"Litchi\"]\n",
        "fruits.append(\"Pomegranate\")\n",
        "print(fruits)\n",
        "fruits[2] = \"Strawberry\"\n",
        "print(fruits)\n",
        "fruits_2 = fruits.pop()\n",
        "print(fruits)\n",
        "print(\"The popped element is:\",fruits_2)"
      ],
      "metadata": {
        "colab": {
          "base_uri": "https://localhost:8080/"
        },
        "id": "8ve8VAl9LAM-",
        "outputId": "2f0855e2-ef9d-411d-92b2-7ad6d611b290"
      },
      "execution_count": 21,
      "outputs": [
        {
          "output_type": "stream",
          "name": "stdout",
          "text": [
            "['Apple', 'Mango', 'Banana', 'Cherry', 'Litchi', 'Pomegranate']\n",
            "['Apple', 'Mango', 'Strawberry', 'Cherry', 'Litchi', 'Pomegranate']\n",
            "['Apple', 'Mango', 'Strawberry', 'Cherry', 'Litchi']\n",
            "The popped element is: Pomegranate\n"
          ]
        }
      ]
    },
    {
      "cell_type": "markdown",
      "source": [
        "iii. List Methods"
      ],
      "metadata": {
        "id": "Vhh2nT-mKmg3"
      }
    },
    {
      "cell_type": "code",
      "source": [
        "fruits = [\"Apple\", \"Mango\", \"Banana\",\"Cherry\", \"Cherry\", \"Litchi\",\"Cherry\"]\n",
        "fruits.sort()  # Sort the list in ascending order\n",
        "print(fruits)\n",
        "fruits.reverse()  # Reverse the order of elements in the list\n",
        "print(fruits)\n",
        "print(fruits.count(\"Cherry\"))  # Count the number of \"Cherry\" in the list"
      ],
      "metadata": {
        "colab": {
          "base_uri": "https://localhost:8080/"
        },
        "id": "fIIsoEGcLOfd",
        "outputId": "3b4dc27c-7ad0-4b28-e2db-4f882d85d003"
      },
      "execution_count": 24,
      "outputs": [
        {
          "output_type": "stream",
          "name": "stdout",
          "text": [
            "['Apple', 'Banana', 'Cherry', 'Cherry', 'Cherry', 'Litchi', 'Mango']\n",
            "['Mango', 'Litchi', 'Cherry', 'Cherry', 'Cherry', 'Banana', 'Apple']\n",
            "3\n"
          ]
        }
      ]
    },
    {
      "cell_type": "markdown",
      "source": [
        "2. Tuples\n",
        "\n",
        "i. Create and access elements\n"
      ],
      "metadata": {
        "id": "9sNLK3KVLoyH"
      }
    },
    {
      "cell_type": "code",
      "source": [
        "num=(10,20,30,40,50)\n",
        "print(num[0])\n",
        "print(num[4])"
      ],
      "metadata": {
        "colab": {
          "base_uri": "https://localhost:8080/"
        },
        "id": "L9oxD52gLp-i",
        "outputId": "fcfc54af-3806-42cf-806a-3ba25eb1e6cc"
      },
      "execution_count": 27,
      "outputs": [
        {
          "output_type": "stream",
          "name": "stdout",
          "text": [
            "10\n",
            "50\n"
          ]
        }
      ]
    },
    {
      "cell_type": "markdown",
      "source": [
        "ii. Immutable nature of tuples"
      ],
      "metadata": {
        "id": "BYO_9-BrMGik"
      }
    },
    {
      "cell_type": "code",
      "source": [
        "num=(10,30,50,70,90)\n",
        "num[2]=25 #trying to change the values in the tuple"
      ],
      "metadata": {
        "colab": {
          "base_uri": "https://localhost:8080/",
          "height": 165
        },
        "id": "O4TmWrdMMgbm",
        "outputId": "30c868a1-42a1-4c6d-a0cd-c724043bc650"
      },
      "execution_count": 3,
      "outputs": [
        {
          "output_type": "error",
          "ename": "TypeError",
          "evalue": "'tuple' object does not support item assignment",
          "traceback": [
            "\u001b[0;31m---------------------------------------------------------------------------\u001b[0m",
            "\u001b[0;31mTypeError\u001b[0m                                 Traceback (most recent call last)",
            "\u001b[0;32m<ipython-input-3-28cd368c9fbd>\u001b[0m in \u001b[0;36m<cell line: 2>\u001b[0;34m()\u001b[0m\n\u001b[1;32m      1\u001b[0m \u001b[0mnum\u001b[0m\u001b[0;34m=\u001b[0m\u001b[0;34m(\u001b[0m\u001b[0;36m10\u001b[0m\u001b[0;34m,\u001b[0m\u001b[0;36m30\u001b[0m\u001b[0;34m,\u001b[0m\u001b[0;36m50\u001b[0m\u001b[0;34m,\u001b[0m\u001b[0;36m70\u001b[0m\u001b[0;34m,\u001b[0m\u001b[0;36m90\u001b[0m\u001b[0;34m)\u001b[0m\u001b[0;34m\u001b[0m\u001b[0;34m\u001b[0m\u001b[0m\n\u001b[0;32m----> 2\u001b[0;31m \u001b[0mnum\u001b[0m\u001b[0;34m[\u001b[0m\u001b[0;36m2\u001b[0m\u001b[0;34m]\u001b[0m\u001b[0;34m=\u001b[0m\u001b[0;36m25\u001b[0m \u001b[0;31m#trying to change the values in the tuple\u001b[0m\u001b[0;34m\u001b[0m\u001b[0;34m\u001b[0m\u001b[0m\n\u001b[0m",
            "\u001b[0;31mTypeError\u001b[0m: 'tuple' object does not support item assignment"
          ]
        }
      ]
    },
    {
      "cell_type": "markdown",
      "source": [
        "iii. Tuple Operation"
      ],
      "metadata": {
        "id": "BoMgYmjKMxlp"
      }
    },
    {
      "cell_type": "code",
      "source": [
        "num=(10,20,30,40,50)\n",
        "a,b,c,d,e=num #assigning the values of the tuples to 5 different variables\n",
        "print(\"a=\",a)\n",
        "print(\"b=\",b)\n",
        "print(\"c=\",c)\n",
        "print(\"d=\",d)\n",
        "print(\"e=\",e)"
      ],
      "metadata": {
        "colab": {
          "base_uri": "https://localhost:8080/"
        },
        "id": "B8259dPUM0It",
        "outputId": "a04b72fb-7658-4f60-8a34-6a2b0b50937a"
      },
      "execution_count": 25,
      "outputs": [
        {
          "output_type": "stream",
          "name": "stdout",
          "text": [
            "a= 10\n",
            "b= 20\n",
            "c= 30\n",
            "d= 40\n",
            "e= 50\n"
          ]
        }
      ]
    },
    {
      "cell_type": "markdown",
      "source": [
        "3. Dictionaries\n",
        "\n",
        "i. Create and access elements\n"
      ],
      "metadata": {
        "id": "_ec5WPcSNCFd"
      }
    },
    {
      "cell_type": "code",
      "source": [
        "dict_1={\"Name\":\"John\",\"Age\":\"20\",\"Subject\":[\"Math\",\"Physics\",\"Chemistry\"]}\n",
        "print(dict_1[\"Age\"])"
      ],
      "metadata": {
        "colab": {
          "base_uri": "https://localhost:8080/"
        },
        "id": "nXURAbJ1NGYc",
        "outputId": "3dbe2bb8-ecb1-4df9-a7e7-a9b2f0fa20fc"
      },
      "execution_count": 28,
      "outputs": [
        {
          "output_type": "stream",
          "name": "stdout",
          "text": [
            "20\n"
          ]
        }
      ]
    },
    {
      "cell_type": "markdown",
      "source": [
        "ii. Modify the dictionary"
      ],
      "metadata": {
        "id": "6bMbGXN3NJiq"
      }
    },
    {
      "cell_type": "code",
      "source": [
        "dict_1={\"Name\":\"John\",\"Age\":\"20\",\"Subject\":[\"Math\",\"Physics\",\"Chemistry\"]}\n",
        "dict_1[\"Grade\"]=\"A\" #adding new value to dictionary\n",
        "dict_1[\"Age\"]=21 #changing the value of age\n",
        "del dict_1[\"Subject\"] #removing the subject key\n",
        "print(dict_1)"
      ],
      "metadata": {
        "colab": {
          "base_uri": "https://localhost:8080/"
        },
        "id": "KQ7JmzHCNQrI",
        "outputId": "5b9e3920-38a4-449e-c8bf-c302e7b54a34"
      },
      "execution_count": 44,
      "outputs": [
        {
          "output_type": "stream",
          "name": "stdout",
          "text": [
            "{'Name': 'John', 'Age': 21, 'Grade': 'A'}\n"
          ]
        }
      ]
    },
    {
      "cell_type": "markdown",
      "source": [
        "iii. Dictionary Methods"
      ],
      "metadata": {
        "id": "AIkG85BvNTeG"
      }
    },
    {
      "cell_type": "code",
      "source": [
        "dict_2={'Name': 'John', 'Age': 21, 'Grade': 'A'}\n",
        "print(dict_2.keys()) #printing the keys of the dictionary\n",
        "print(dict_2.values()) #printing the values of the dictionary"
      ],
      "metadata": {
        "colab": {
          "base_uri": "https://localhost:8080/"
        },
        "id": "GjYtAHNLNaW2",
        "outputId": "e3125446-6ab7-47f9-e0f5-e6eed0f4c07c"
      },
      "execution_count": 43,
      "outputs": [
        {
          "output_type": "stream",
          "name": "stdout",
          "text": [
            "dict_keys(['Name', 'Age', 'Grade'])\n",
            "dict_values(['John', 21, 'A'])\n"
          ]
        }
      ]
    },
    {
      "cell_type": "code",
      "source": [],
      "metadata": {
        "id": "uiKgAwQGShXj"
      },
      "execution_count": null,
      "outputs": []
    }
  ]
}